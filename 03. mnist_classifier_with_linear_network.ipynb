{
 "cells": [
  {
   "cell_type": "markdown",
   "metadata": {},
   "source": [
    "# MNIST classification\n",
    "\n",
    "- https://en.wikipedia.org/wiki/MNIST_database\n",
    "\n",
    "1. Naive-Bayes Classifier\n",
    "    - skip. Less interesting.\n",
    "2. Neural Netowrk\n",
    "    - mini-batch"
   ]
  },
  {
   "cell_type": "code",
   "execution_count": null,
   "metadata": {},
   "outputs": [],
   "source": [
    "import numpy as np\n",
    "import torch\n",
    "import torch.nn as nn\n",
    "import torchvision.datasets\n",
    "import torchvision.transforms as transforms\n",
    "import matplotlib.pyplot as plt\n",
    "import sklearn\n",
    "\n",
    "print('numpy: ', np.__version__)\n",
    "print('sklearn: ', sklearn.__version__)"
   ]
  },
  {
   "cell_type": "markdown",
   "metadata": {},
   "source": [
    "## Dataset can be obtained directly from `torchvision`"
   ]
  },
  {
   "cell_type": "code",
   "execution_count": 78,
   "metadata": {},
   "outputs": [],
   "source": [
    "mnist_train = torchvision.datasets.MNIST(root='./data', train=True, download=True)\n",
    "mnist_test = torchvision.datasets.MNIST(root='./data', train=False, download=True)"
   ]
  },
  {
   "cell_type": "markdown",
   "metadata": {},
   "source": [
    "### Returned are PIL Image and target label"
   ]
  },
  {
   "cell_type": "code",
   "execution_count": 81,
   "metadata": {},
   "outputs": [
    {
     "name": "stdout",
     "output_type": "stream",
     "text": [
      "<PIL.Image.Image image mode=L size=28x28 at 0x15A9B33C488> 5\n"
     ]
    },
    {
     "data": {
      "image/png": "[encoded data removed]",
      "text/plain": [
       "<Figure size 432x288 with 1 Axes>"
      ]
     },
     "metadata": {
      "needs_background": "light"
     },
     "output_type": "display_data"
    }
   ],
   "source": [
    "im, label = mnist_train[0]\n",
    "plt.imshow(im, cmap='gray')\n",
    "print(im, label)"
   ]
  },
  {
   "cell_type": "markdown",
   "metadata": {},
   "source": [
    "### Convert to Tensor and A Custom torchvision.transformation for Binarization"
   ]
  },
  {
   "cell_type": "code",
   "execution_count": 82,
   "metadata": {},
   "outputs": [],
   "source": [
    "class MyBinarization:\n",
    "    \"\"\" convert a gray scale tensor [0, 1] to binary tensor of {0., 1.}\"\"\"\n",
    "    def __init__(self, threshold=0.5):\n",
    "        self.threshold=threshold\n",
    "        \n",
    "    def __call__(self, im):\n",
    "        bright = im > self.threshold\n",
    "        im[bright] = 1.\n",
    "        im[~bright] = 0.\n",
    "        return im\n",
    "\n",
    "data_transform = torchvision.transforms.Compose([#transforms.Grayscale(), \n",
    "                                     torchvision.transforms.ToTensor(),\n",
    "                                     torchvision.transforms.Lambda(lambda im: (im>0.5).float()), # another way to do binarizaiton\n",
    "                                     #MyBinarization() ,\n",
    "                                     torchvision.transforms.Lambda(lambda im: im.reshape(-1)) # \n",
    "                                    ])\n",
    "\n",
    "mnist_train = torchvision.datasets.MNIST(root='./data', train=True, download=True, transform=data_transform)\n",
    "mnist_test  = torchvision.datasets.MNIST(root='./data', train=False, download=True, transform=data_transform)"
   ]
  },
  {
   "cell_type": "code",
   "execution_count": 83,
   "metadata": {},
   "outputs": [
    {
     "data": {
      "text/plain": [
       "(torch.Size([784]), torch.float32, 5, array([0., 1.], dtype=float32), int, 784)"
      ]
     },
     "execution_count": 83,
     "metadata": {},
     "output_type": "execute_result"
    },
    {
     "data": {
      "image/png": "[encoded data removed]",
      "text/plain": [
       "<Figure size 432x288 with 1 Axes>"
      ]
     },
     "metadata": {
      "needs_background": "light"
     },
     "output_type": "display_data"
    }
   ],
   "source": [
    "im, label = mnist_train[0]\n",
    "plt.imshow(im.reshape(28,28), cmap='gray')\n",
    "im.shape, im.dtype, label, np.unique(im), type(label), 28*28"
   ]
  },
  {
   "cell_type": "markdown",
   "metadata": {},
   "source": [
    "## Bernoulli Naive Bayes\n",
    "- https://github.com/dsgiitr/d2l-pytorch/blob/master/Ch04_The_Preliminaries_A_Crashcourse/Naive_Bayes_Classification.ipynb"
   ]
  },
  {
   "cell_type": "code",
   "execution_count": 84,
   "metadata": {},
   "outputs": [],
   "source": [
    "xcount = torch.ones((im.reshape(-1).shape[0],10)).float()\n",
    "ycount = torch.ones((10))\n",
    "\n",
    "for im, label in mnist_train:\n",
    "    xcount[:,label] += im.reshape(-1)\n",
    "    ycount[label] += 1\n",
    "#"
   ]
  },
  {
   "cell_type": "code",
   "execution_count": 85,
   "metadata": {},
   "outputs": [],
   "source": [
    "py = ycount / ycount.sum()\n",
    "px = xcount / ycount.unsqueeze(0) # each row is divided by ycount"
   ]
  },
  {
   "cell_type": "markdown",
   "metadata": {},
   "source": [
    "- For example, px[300,:] shows the Bernoulli probability at the location 300 for the class labels.\n",
    "- px[300,**k**] is the probability of being a bright pixel at the location 300 provided the class is **k**"
   ]
  },
  {
   "cell_type": "code",
   "execution_count": 86,
   "metadata": {},
   "outputs": [
    {
     "data": {
      "text/plain": [
       "tensor([0.6437, 0.0114, 0.3167, 0.1797, 0.3377, 0.1046, 0.0781, 0.4349, 0.4508,\n",
       "        0.3057])"
      ]
     },
     "execution_count": 86,
     "metadata": {},
     "output_type": "execute_result"
    }
   ],
   "source": [
    "px[300,:]"
   ]
  },
  {
   "cell_type": "code",
   "execution_count": 87,
   "metadata": {},
   "outputs": [
    {
     "name": "stdout",
     "output_type": "stream",
     "text": [
      "Class Conditional Probabilities: \n"
     ]
    },
    {
     "data": {
      "image/png": "[encoded data removed]",
      "text/plain": [
       "<Figure size 1080x720 with 10 Axes>"
      ]
     },
     "metadata": {
      "needs_background": "light"
     },
     "output_type": "display_data"
    },
    {
     "name": "stdout",
     "output_type": "stream",
     "text": [
      "Class Prior Probabilities:\n",
      "  tensor([0.0987, 0.1124, 0.0993, 0.1022, 0.0974, 0.0904, 0.0986, 0.1044, 0.0975,\n",
      "        0.0992])\n"
     ]
    }
   ],
   "source": [
    "fig, axes = plt.subplots(1,10, figsize=(15,10))\n",
    "print('Class Conditional Probabilities: ')\n",
    "for i in range(10):\n",
    "    axes[i].imshow(px[:,i].reshape(28,28).numpy(), cmap='hot')\n",
    "    axes[i].axes.get_xaxis().set_visible(False)\n",
    "    axes[i].axes.get_yaxis().set_visible(False)\n",
    "plt.show()\n",
    "print('Class Prior Probabilities:\\n ', py)"
   ]
  },
  {
   "cell_type": "markdown",
   "metadata": {},
   "source": [
    "* Notice that the images are well aligned within classes."
   ]
  },
  {
   "cell_type": "code",
   "execution_count": 88,
   "metadata": {},
   "outputs": [
    {
     "data": {
      "text/plain": [
       "(array([0, 1, 2, 3, 4, 5, 6, 7, 8, 9], dtype=int64),\n",
       " array([5923, 6742, 5958, 6131, 5842, 5421, 5918, 6265, 5851, 5949],\n",
       "       dtype=int64))"
      ]
     },
     "execution_count": 88,
     "metadata": {},
     "output_type": "execute_result"
    }
   ],
   "source": [
    "np.unique(mnist_train.targets, return_counts=True)"
   ]
  },
  {
   "cell_type": "markdown",
   "metadata": {},
   "source": [
    "## PyTorch Neural Network"
   ]
  },
  {
   "cell_type": "code",
   "execution_count": 7,
   "metadata": {},
   "outputs": [
    {
     "name": "stdout",
     "output_type": "stream",
     "text": [
      "cuda:0\n"
     ]
    }
   ],
   "source": [
    "import matplotlib.pyplot as plt\n",
    "%matplotlib inline\n",
    "import numpy as np\n",
    "\n",
    "import torch\n",
    "import torch.utils\n",
    "import torch.nn as nn\n",
    "import torch.optim\n",
    "import torchvision\n",
    "\n",
    "device = torch.device(\"cuda:0\" if torch.cuda.is_available() else \"cpu\")\n",
    "#device = torch.device('cpu')\n",
    "print (device)"
   ]
  },
  {
   "cell_type": "markdown",
   "metadata": {},
   "source": [
    "## Data Preparation"
   ]
  },
  {
   "cell_type": "code",
   "execution_count": 8,
   "metadata": {},
   "outputs": [],
   "source": [
    "data_transform = torchvision.transforms.Compose([#transforms.Grayscale(), \n",
    "                                     torchvision.transforms.ToTensor(),\n",
    "                                     torchvision.transforms.Lambda(lambda im: im.reshape(-1))\n",
    "                                    ])\n",
    "\n",
    "mnist_train = torchvision.datasets.MNIST(root='./data', train=True, download=True, transform=data_transform)\n",
    "mnist_test  = torchvision.datasets.MNIST(root='./data', train=False, download=True, transform=data_transform)\n",
    "\n",
    "batch_size=4\n",
    "data_loader_train = torch.utils.data.DataLoader(mnist_train, batch_size=batch_size, shuffle=True)\n",
    "data_loader_test = torch.utils.data.DataLoader(mnist_test, batch_size=batch_size, shuffle=True)"
   ]
  },
  {
   "cell_type": "code",
   "execution_count": 9,
   "metadata": {},
   "outputs": [
    {
     "data": {
      "text/plain": [
       "Text(0.5, 1.0, 'label: 5')"
      ]
     },
     "execution_count": 9,
     "metadata": {},
     "output_type": "execute_result"
    },
    {
     "data": {
      "image/png": "[encoded data removed]",
      "text/plain": [
       "<Figure size 432x288 with 1 Axes>"
      ]
     },
     "metadata": {
      "needs_background": "light"
     },
     "output_type": "display_data"
    }
   ],
   "source": [
    "# Explore\n",
    "im, label = mnist_train[0]\n",
    "plt.imshow(im.reshape(28,28), cmap='gray')\n",
    "plt.title(f'label: {label}')"
   ]
  },
  {
   "cell_type": "code",
   "execution_count": 10,
   "metadata": {},
   "outputs": [
    {
     "name": "stdout",
     "output_type": "stream",
     "text": [
      "torch.Size([4, 784])\n"
     ]
    },
    {
     "data": {
      "image/png": "[encoded data removed]",
      "text/plain": [
       "<Figure size 1008x576 with 4 Axes>"
      ]
     },
     "metadata": {
      "needs_background": "light"
     },
     "output_type": "display_data"
    }
   ],
   "source": [
    "for batch_im, batch_label in data_loader_train:\n",
    "    print(batch_im.shape)\n",
    "    fig, axes = plt.subplots(1,batch_im.shape[0], figsize=(14,8))\n",
    "    for i in range(batch_im.shape[0]):\n",
    "        axes[i].imshow(batch_im[i].reshape(28,28), cmap='gray')\n",
    "        axes[i].set_title(f'label: {batch_label[i]}')\n",
    "    break"
   ]
  },
  {
   "cell_type": "markdown",
   "metadata": {},
   "source": [
    "### Network Design"
   ]
  },
  {
   "cell_type": "code",
   "execution_count": 31,
   "metadata": {},
   "outputs": [],
   "source": [
    "# Two hidden layer network\n",
    "\n",
    "def myNetwork(in_features, n_targget):\n",
    "    net = nn.Sequential(\n",
    "        nn.Linear(in_features=in_features, out_features=in_features//2),\n",
    "        nn.Tanh(),\n",
    "        nn.Linear(in_features=in_features//2, out_features=n_target),\n",
    "        nn.LogSoftmax(dim=1)\n",
    "        )\n",
    "    return net\n",
    "#"
   ]
  },
  {
   "cell_type": "markdown",
   "metadata": {},
   "source": [
    "### Revise the action of `LogSoftMax()`"
   ]
  },
  {
   "cell_type": "code",
   "execution_count": 12,
   "metadata": {},
   "outputs": [
    {
     "name": "stdout",
     "output_type": "stream",
     "text": [
      "Score Batch:\n",
      " tensor([[ 0.2204, -0.3269,  0.2302, -0.7457,  0.6498,  2.1011,  0.3348,  0.2972,\n",
      "         -0.9492, -2.0973],\n",
      "        [-0.4388,  0.5465,  1.1597,  1.9615, -0.2737, -1.5286,  0.2719,  0.9646,\n",
      "          2.5155, -0.7758],\n",
      "        [ 1.2172, -0.7651,  0.5614, -0.3824,  0.3000,  2.5931, -0.4821, -0.4242,\n",
      "         -0.6840, -0.6602],\n",
      "        [-0.6225,  0.7514, -1.2547,  0.0572, -0.8566, -0.8254, -0.4608,  0.3110,\n",
      "          0.8874, -0.1711]])\n",
      "LogSoftMax:\n",
      " tensor([[-2.6155, -3.1628, -2.6057, -3.5816, -2.1860, -0.7347, -2.5011, -2.5386,\n",
      "         -3.7851, -4.9332],\n",
      "        [-3.8538, -2.8685, -2.2554, -1.4535, -3.6887, -4.9436, -3.1431, -2.4504,\n",
      "         -0.8995, -4.1909],\n",
      "        [-1.9309, -3.9132, -2.5867, -3.5306, -2.8481, -0.5550, -3.6302, -3.5724,\n",
      "         -3.8322, -3.8083],\n",
      "        [-2.9380, -1.5642, -3.5702, -2.2583, -3.1722, -3.1409, -2.7764, -2.0046,\n",
      "         -1.4281, -2.4866]])\n",
      "SoftMax:\n",
      " tensor([[0.0731, 0.0423, 0.0739, 0.0278, 0.1124, 0.4796, 0.0820, 0.0790, 0.0227,\n",
      "         0.0072],\n",
      "        [0.0212, 0.0568, 0.1048, 0.2337, 0.0250, 0.0071, 0.0431, 0.0863, 0.4068,\n",
      "         0.0151],\n",
      "        [0.1450, 0.0200, 0.0753, 0.0293, 0.0580, 0.5741, 0.0265, 0.0281, 0.0217,\n",
      "         0.0222],\n",
      "        [0.0530, 0.2093, 0.0281, 0.1045, 0.0419, 0.0432, 0.0623, 0.1347, 0.2398,\n",
      "         0.0832]])\n",
      "argmax(dim=1):\n",
      " tensor([5, 8, 5, 8])\n"
     ]
    }
   ],
   "source": [
    "logsoftmax = nn.LogSoftmax(dim=1)\n",
    "score_batch = torch.randn((4,10))\n",
    "lsm = logsoftmax(score_batch) # log softmax along the dimension\n",
    "print('Score Batch:\\n', score_batch)\n",
    "print('LogSoftMax:\\n', lsm)\n",
    "print('SoftMax:\\n', torch.exp(lsm))\n",
    "print('argmax(dim=1):\\n', torch.argmax(lsm, dim=1))"
   ]
  },
  {
   "cell_type": "markdown",
   "metadata": {},
   "source": [
    "### Sanity Check with Dataset"
   ]
  },
  {
   "cell_type": "code",
   "execution_count": 33,
   "metadata": {},
   "outputs": [
    {
     "data": {
      "text/plain": [
       "(Sequential(\n",
       "   (0): Linear(in_features=784, out_features=392, bias=True)\n",
       "   (1): Tanh()\n",
       "   (2): Linear(in_features=392, out_features=10, bias=True)\n",
       "   (3): LogSoftmax()\n",
       " ), True)"
      ]
     },
     "execution_count": 33,
     "metadata": {},
     "output_type": "execute_result"
    }
   ],
   "source": [
    "in_features = 28*28\n",
    "n_target = 10\n",
    "\n",
    "net = myNetwork(in_features, n_target).to(device)\n",
    "net, next(net.parameters()).is_cuda"
   ]
  },
  {
   "cell_type": "code",
   "execution_count": 34,
   "metadata": {},
   "outputs": [
    {
     "name": "stdout",
     "output_type": "stream",
     "text": [
      "0 ------------------------------------\n",
      "torch.Size([1, 784])\n",
      "log_P(y|x):  tensor([[-2.2869, -2.2507, -2.2092, -2.3654, -2.3545, -2.1557, -2.3689, -2.2819,\n",
      "         -2.2108, -2.6128]], device='cuda:0')\n",
      "P(y|x):  tensor([[0.1016, 0.1053, 0.1098, 0.0939, 0.0949, 0.1158, 0.0936, 0.1021, 0.1096,\n",
      "         0.0733]], device='cuda:0')\n",
      "argmax:  5\n",
      "1 ------------------------------------\n",
      "torch.Size([1, 784])\n",
      "log_P(y|x):  tensor([[-2.2951, -2.0934, -2.3160, -2.3768, -2.2550, -2.1740, -2.5253, -2.3067,\n",
      "         -2.3073, -2.4451]], device='cuda:0')\n",
      "P(y|x):  tensor([[0.1008, 0.1233, 0.0987, 0.0928, 0.1049, 0.1137, 0.0800, 0.0996, 0.0995,\n",
      "         0.0867]], device='cuda:0')\n",
      "argmax:  1\n",
      "2 ------------------------------------\n",
      "torch.Size([1, 784])\n",
      "log_P(y|x):  tensor([[-2.3163, -2.0918, -2.4537, -2.4307, -2.1866, -2.3441, -2.4155, -2.2432,\n",
      "         -2.2167, -2.3933]], device='cuda:0')\n",
      "P(y|x):  tensor([[0.0986, 0.1235, 0.0860, 0.0880, 0.1123, 0.0959, 0.0893, 0.1061, 0.1090,\n",
      "         0.0913]], device='cuda:0')\n",
      "argmax:  1\n",
      "3 ------------------------------------\n",
      "torch.Size([1, 784])\n",
      "log_P(y|x):  tensor([[-2.2630, -2.4522, -2.2105, -2.2262, -2.2553, -2.2646, -2.3290, -2.4295,\n",
      "         -2.1880, -2.4539]], device='cuda:0')\n",
      "P(y|x):  tensor([[0.1040, 0.0861, 0.1096, 0.1079, 0.1048, 0.1039, 0.0974, 0.0881, 0.1121,\n",
      "         0.0860]], device='cuda:0')\n",
      "argmax:  8\n"
     ]
    }
   ],
   "source": [
    "# net working test\n",
    "with torch.no_grad():\n",
    "    for i in range(4):\n",
    "        print(i, '------------------------------------')\n",
    "        im_tensor, label = mnist_train[i]\n",
    "        print(im_tensor.unsqueeze(0).shape)\n",
    "        yp = net(im_tensor.unsqueeze(0).to(device)) # [Batch, data_features]\n",
    "        pred = torch.argmax(yp, dim=1)\n",
    "        print('log_P(y|x): ', yp)\n",
    "        print('P(y|x): ', torch.exp(yp))\n",
    "        print('argmax: ', pred.item())"
   ]
  },
  {
   "cell_type": "markdown",
   "metadata": {},
   "source": [
    "### Sanity Check with data_loader"
   ]
  },
  {
   "cell_type": "code",
   "execution_count": 35,
   "metadata": {},
   "outputs": [
    {
     "name": "stdout",
     "output_type": "stream",
     "text": [
      "torch.Size([128, 784]) torch.float32 torch.Size([128])\n",
      "log_P(y|x):\n",
      " tensor([[-2.4495, -2.0737, -2.3388,  ..., -2.2090, -2.2958, -2.4333],\n",
      "        [-2.4172, -2.4299, -2.2305,  ..., -2.2424, -2.1864, -2.5348],\n",
      "        [-2.3795, -2.1104, -2.1352,  ..., -2.2865, -2.4778, -2.4789],\n",
      "        ...,\n",
      "        [-2.3828, -2.0548, -2.3524,  ..., -2.1935, -2.2937, -2.4925],\n",
      "        [-2.3203, -2.2348, -2.1558,  ..., -2.2878, -2.2210, -2.4136],\n",
      "        [-2.3782, -2.1401, -2.3659,  ..., -2.1635, -2.3060, -2.5171]],\n",
      "       device='cuda:0')\n",
      "P(y|x):  tensor([[0.0863, 0.1257, 0.0964,  ..., 0.1098, 0.1007, 0.0877],\n",
      "        [0.0892, 0.0880, 0.1075,  ..., 0.1062, 0.1123, 0.0793],\n",
      "        [0.0926, 0.1212, 0.1182,  ..., 0.1016, 0.0839, 0.0838],\n",
      "        ...,\n",
      "        [0.0923, 0.1281, 0.0951,  ..., 0.1115, 0.1009, 0.0827],\n",
      "        [0.0982, 0.1070, 0.1158,  ..., 0.1015, 0.1085, 0.0895],\n",
      "        [0.0927, 0.1176, 0.0939,  ..., 0.1149, 0.0997, 0.0807]],\n",
      "       device='cuda:0')\n",
      "argmax:  tensor([1, 8, 1, 8, 8, 1, 2, 2, 2, 5, 8, 8, 2, 1, 5, 8, 5, 1, 1, 5, 8, 1, 8, 8,\n",
      "        2, 8, 1, 1, 8, 1, 7, 1, 7, 8, 8, 7, 4, 8, 5, 5, 7, 4, 7, 5, 8, 5, 8, 2,\n",
      "        1, 2, 8, 2, 0, 0, 1, 8, 8, 1, 5, 1, 1, 1, 8, 3, 8, 1, 8, 5, 5, 1, 2, 2,\n",
      "        4, 2, 8, 1, 2, 5, 5, 8, 5, 5, 1, 8, 1, 5, 1, 1, 7, 1, 1, 8, 8, 8, 1, 1,\n",
      "        5, 5, 0, 1, 2, 1, 8, 1, 8, 1, 1, 1, 1, 2, 1, 8, 1, 8, 1, 5, 8, 1, 5, 4,\n",
      "        1, 0, 2, 1, 2, 1, 2, 1], device='cuda:0')\n"
     ]
    }
   ],
   "source": [
    "with torch.no_grad():\n",
    "    for im_batch, label_batch in data_loader_train:\n",
    "        im_batch, label_batch = im_batch.to(device), label_batch.to(device)\n",
    "        print(im_batch.shape, im_batch.dtype, label_batch.shape)\n",
    "        yp = net(im_batch) # [Batch, data_features]\n",
    "        pred = torch.argmax(yp, dim=1)\n",
    "        print('log_P(y|x):\\n', yp)\n",
    "        print ('P(y|x): ', torch.exp(yp))\n",
    "        print('argmax: ', pred)\n",
    "        break"
   ]
  },
  {
   "cell_type": "markdown",
   "metadata": {},
   "source": [
    "### Training Loop"
   ]
  },
  {
   "cell_type": "code",
   "execution_count": 37,
   "metadata": {},
   "outputs": [],
   "source": [
    "def performance(model, loss_fn, dataloader):\n",
    "    model.eval()\n",
    "    with torch.no_grad():\n",
    "        loss, acc, n = 0., 0., 0.\n",
    "        for x, y in dataloader:\n",
    "            x, y = x.to(device), y.to(device)\n",
    "            ypred = model(x)\n",
    "            loss += loss_fn(ypred, y).item() * len(y)\n",
    "            p = torch.argmax(ypred, dim=1)\n",
    "            acc += (p == y).sum().item()\n",
    "            n += len(y)\n",
    "        #\n",
    "    loss /= n\n",
    "    acc /= n\n",
    "    return loss, acc\n",
    "  \n",
    "def training_loop(n_epochs, optim, model, loss_fn, dl_train, dl_val, hist=None):\n",
    "    if hist is not None:\n",
    "        pass\n",
    "    else:\n",
    "        hist = {'tloss': [], 'tacc': [], 'vloss': [], 'vacc': []}\n",
    "        \n",
    "    for epoch in range(1, n_epochs+1):\n",
    "        tr_loss, tr_acc = 0., 0.\n",
    "        n_data = 0\n",
    "        for im_batch, label_batch in dl_train: # minibatch\n",
    "            im_batch, label_batch = im_batch.to(device), label_batch.to(device)\n",
    "            ypred = model(im_batch)\n",
    "            loss_train = loss_fn(ypred, label_batch)\n",
    "        \n",
    "            optim.zero_grad()\n",
    "            loss_train.backward()\n",
    "            optim.step()\n",
    "\n",
    "            \n",
    "            # accumulate correct prediction\n",
    "            tr_acc  += (torch.argmax(ypred.detach(), dim=1) == label_batch).sum().item() # number of correct predictions\n",
    "            tr_loss += loss_train.item() * im_batch.shape[0]\n",
    "            n_data  += im_batch.shape[0]\n",
    "        #\n",
    "        # statistics\n",
    "        tr_loss /= n_data\n",
    "        tr_acc  /= n_data\n",
    "        #\n",
    "        val_loss, val_acc = performance(model, loss_fn, dl_val)\n",
    "        \n",
    "        if epoch <= 5 or epoch % 1000 == 0 or epoch == n_epochs:\n",
    "             print(f'Epoch {epoch}, tloss {tr_loss:.2f} t_acc: {tr_acc:.2f}  vloss {val_loss:.2f}  v_acc: {val_acc:.2f}')\n",
    "            \n",
    "        # record for history return\n",
    "        hist['tloss'].append(tr_loss)\n",
    "        hist['vloss'].append(val_loss) \n",
    "        hist['tacc'].append(tr_acc)\n",
    "        hist['vacc'].append(val_acc)\n",
    "        \n",
    "    print ('finished training_loop().')\n",
    "    return hist"
   ]
  },
  {
   "cell_type": "code",
   "execution_count": 39,
   "metadata": {},
   "outputs": [],
   "source": [
    "batch_size=128\n",
    "data_loader_train = torch.utils.data.DataLoader(mnist_train, batch_size=batch_size, shuffle=True)\n",
    "data_loader_test = torch.utils.data.DataLoader(mnist_test, batch_size=batch_size, shuffle=True)"
   ]
  },
  {
   "cell_type": "markdown",
   "metadata": {},
   "source": [
    "### optimizer & loss_function"
   ]
  },
  {
   "cell_type": "code",
   "execution_count": 40,
   "metadata": {},
   "outputs": [],
   "source": [
    "optimizer = torch.optim.SGD(net.parameters(), lr=1e-2)\n",
    "loss_fn = nn.NLLLoss().to(device)\n",
    "\n",
    "model = myNetwork(in_features, n_target)"
   ]
  },
  {
   "cell_type": "code",
   "execution_count": 41,
   "metadata": {},
   "outputs": [
    {
     "name": "stdout",
     "output_type": "stream",
     "text": [
      "Epoch 1, tloss 1.43 t_acc: 0.71  vloss 0.84  v_acc: 0.83\n",
      "Epoch 2, tloss 0.68 t_acc: 0.85  vloss 0.55  v_acc: 0.87\n",
      "Epoch 3, tloss 0.51 t_acc: 0.87  vloss 0.45  v_acc: 0.89\n",
      "Epoch 4, tloss 0.44 t_acc: 0.88  vloss 0.40  v_acc: 0.89\n",
      "Epoch 5, tloss 0.41 t_acc: 0.89  vloss 0.37  v_acc: 0.90\n",
      "Epoch 10, tloss 0.33 t_acc: 0.90  vloss 0.32  v_acc: 0.91\n",
      "finished training_loop().\n"
     ]
    }
   ],
   "source": [
    "history = training_loop(n_epochs=10,\n",
    "                        optim=optimizer,\n",
    "                        model=net,\n",
    "                        loss_fn=loss_fn, \n",
    "                        dl_train=data_loader_train,\n",
    "                        dl_val = data_loader_test\n",
    "                        )"
   ]
  },
  {
   "cell_type": "code",
   "execution_count": 43,
   "metadata": {},
   "outputs": [
    {
     "data": {
      "text/plain": [
       "<matplotlib.legend.Legend at 0x15a6d385ec8>"
      ]
     },
     "execution_count": 43,
     "metadata": {},
     "output_type": "execute_result"
    },
    {
     "data": {
      "image/png": "[encoded data removed]",
      "text/plain": [
       "<Figure size 432x288 with 1 Axes>"
      ]
     },
     "metadata": {
      "needs_background": "light"
     },
     "output_type": "display_data"
    }
   ],
   "source": [
    "plt.plot(history['tloss'], label='train loss')\n",
    "plt.plot(history['vloss'], label='val loss')\n",
    "plt.legend()"
   ]
  },
  {
   "cell_type": "code",
   "execution_count": 44,
   "metadata": {},
   "outputs": [
    {
     "data": {
      "text/plain": [
       "<matplotlib.legend.Legend at 0x15a2c173408>"
      ]
     },
     "execution_count": 44,
     "metadata": {},
     "output_type": "execute_result"
    },
    {
     "data": {
      "image/png": "[encoded data removed]",
      "text/plain": [
       "<Figure size 432x288 with 1 Axes>"
      ]
     },
     "metadata": {
      "needs_background": "light"
     },
     "output_type": "display_data"
    }
   ],
   "source": [
    "plt.title('Accuracy Evolution')\n",
    "plt.plot(history['tacc'], label='train accuracy')\n",
    "plt.plot(history['vacc'], label='val accuracy')\n",
    "plt.legend()"
   ]
  },
  {
   "cell_type": "markdown",
   "metadata": {},
   "source": [
    "### Do some more training"
   ]
  },
  {
   "cell_type": "code",
   "execution_count": 46,
   "metadata": {},
   "outputs": [
    {
     "name": "stdout",
     "output_type": "stream",
     "text": [
      "Epoch 1, tloss 0.33 t_acc: 0.91  vloss 0.31  v_acc: 0.91\n",
      "Epoch 2, tloss 0.32 t_acc: 0.91  vloss 0.31  v_acc: 0.91\n",
      "Epoch 3, tloss 0.32 t_acc: 0.91  vloss 0.30  v_acc: 0.92\n",
      "Epoch 4, tloss 0.31 t_acc: 0.91  vloss 0.30  v_acc: 0.92\n",
      "Epoch 5, tloss 0.31 t_acc: 0.91  vloss 0.29  v_acc: 0.92\n",
      "Epoch 50, tloss 0.21 t_acc: 0.94  vloss 0.21  v_acc: 0.94\n",
      "finished training_loop().\n"
     ]
    }
   ],
   "source": [
    "history = training_loop(n_epochs=50,\n",
    "                        optim=optimizer,\n",
    "                        model=net,\n",
    "                        loss_fn=loss_fn, \n",
    "                        dl_train=data_loader_train,\n",
    "                        dl_val = data_loader_test,\n",
    "                        hist=history)"
   ]
  },
  {
   "cell_type": "code",
   "execution_count": 75,
   "metadata": {},
   "outputs": [],
   "source": [
    "def plot_history(history):\n",
    "    fig, axes = plt.subplots(1,2, figsize=(16,6))\n",
    "    axes[0].set_title('Loss'); \n",
    "    axes[0].plot(history['tloss'], label='train'); axes[0].plot(history['vloss'], label='val')\n",
    "    axes[0].legend()\n",
    "    axes[1].set_title('Acc')\n",
    "    axes[1].plot(history['tacc'], label='train'); axes[1].plot(history['vacc'], label='val')\n",
    "    axes[1].legend()"
   ]
  },
  {
   "cell_type": "code",
   "execution_count": 77,
   "metadata": {},
   "outputs": [
    {
     "data": {
      "image/png": "[encoded data removed]",
      "text/plain": [
       "<Figure size 1152x432 with 2 Axes>"
      ]
     },
     "metadata": {
      "needs_background": "light"
     },
     "output_type": "display_data"
    }
   ],
   "source": [
    "plot_history(history)"
   ]
  },
  {
   "cell_type": "code",
   "execution_count": 76,
   "metadata": {},
   "outputs": [
    {
     "name": "stdout",
     "output_type": "stream",
     "text": [
      "Epoch 1, tloss 0.20 t_acc: 0.94  vloss 0.21  v_acc: 0.94\n",
      "Epoch 2, tloss 0.20 t_acc: 0.94  vloss 0.20  v_acc: 0.94\n",
      "Epoch 3, tloss 0.20 t_acc: 0.94  vloss 0.20  v_acc: 0.94\n",
      "Epoch 4, tloss 0.20 t_acc: 0.94  vloss 0.20  v_acc: 0.94\n",
      "Epoch 5, tloss 0.20 t_acc: 0.95  vloss 0.20  v_acc: 0.94\n",
      "Epoch 250, tloss 0.05 t_acc: 0.99  vloss 0.08  v_acc: 0.98\n",
      "finished training_loop().\n"
     ]
    },
    {
     "data": {
      "image/png": "[encoded data removed]",
      "text/plain": [
       "<Figure size 1152x432 with 2 Axes>"
      ]
     },
     "metadata": {
      "needs_background": "light"
     },
     "output_type": "display_data"
    }
   ],
   "source": [
    "history = training_loop(n_epochs=250,\n",
    "                        optim=optimizer,\n",
    "                        model=net,\n",
    "                        loss_fn=loss_fn, \n",
    "                        dl_train=data_loader_train,\n",
    "                        dl_val = data_loader_test,\n",
    "                        hist=history)\n",
    "plot_history(history)"
   ]
  },
  {
   "cell_type": "markdown",
   "metadata": {},
   "source": [
    "### Practicums\n",
    "- Modify batch_size to examine the behavior of the training loop.\n",
    "- Try other values of learning_rate\n",
    "- Try Adam\n",
    "    - what is Adam by the way?"
   ]
  },
  {
   "cell_type": "code",
   "execution_count": null,
   "metadata": {},
   "outputs": [],
   "source": []
  }
 ],
 "metadata": {
  "kernelspec": {
   "display_name": "Python 3",
   "language": "python",
   "name": "python3"
  },
  "language_info": {
   "codemirror_mode": {
    "name": "ipython",
    "version": 3
   },
   "file_extension": ".py",
   "mimetype": "text/x-python",
   "name": "python",
   "nbconvert_exporter": "python",
   "pygments_lexer": "ipython3",
   "version": "3.7.5"
  }
 },
 "nbformat": 4,
 "nbformat_minor": 4
}
